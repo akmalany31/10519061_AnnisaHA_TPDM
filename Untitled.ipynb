{
 "cells": [
  {
   "cell_type": "code",
   "execution_count": 1,
   "metadata": {},
   "outputs": [],
   "source": [
    "#library Classification\n",
    "import pandas as pd\n",
    "import string\n",
    "import numpy as np\n",
    "import nltk"
   ]
  },
  {
   "cell_type": "code",
   "execution_count": 2,
   "metadata": {},
   "outputs": [],
   "source": [
    "#Mesin Learning Naive Bayes\n",
    "from sklearn.naive_bayes import MultinomialNB\n",
    "from sklearn import model_selection\n",
    "from sklearn.feature_extraction.text import CountVectorizer\n",
    "from sklearn.feature_extraction.text import TfidfTransformer\n",
    "from sklearn.model_selection import train_test_split\n",
    "from sklearn.utils.multiclass import unique_labels\n",
    "from sklearn.preprocessing import LabelBinarizer, OrdinalEncoder, OneHotEncoder"
   ]
  },
  {
   "cell_type": "code",
   "execution_count": 3,
   "metadata": {},
   "outputs": [],
   "source": [
    "#visualisasi hasil\n",
    "from sklearn.metrics import classification_report, accuracy_score, confusion_matrix\n",
    "import seaborn as sns\n",
    "import matplotlib.pyplot as plt"
   ]
  },
  {
   "cell_type": "code",
   "execution_count": 4,
   "metadata": {},
   "outputs": [
    {
     "name": "stdout",
     "output_type": "stream",
     "text": [
      "     No Transaksi,Tanggal,Dept,Kode Pelanggan,Nama Pelanggan,Sub Total,Total Pokok,Laba Kotor,Laba Jual,Perubahan Laba\n",
      "0     148597/KSR/UTM/0522,44682,UTM,UMUM,UMUM,5000,4...                                                               \n",
      "1     148598/KSR/UTM/0522,44682,UTM,UMUM,UMUM,63000,...                                                               \n",
      "2     148599/KSR/UTM/0522,44682,UTM,UMUM,UMUM,24000,...                                                               \n",
      "3     148600/KSR/UTM/0522,44682,UTM,UMUM,UMUM,4000,3...                                                               \n",
      "4     148601/KSR/UTM/0522,44682,UTM,UMUM,UMUM,69000,...                                                               \n",
      "...                                                 ...                                                               \n",
      "2472  151098/KSR/UTM/0522,44693,UTM,UMUM,UMUM,3500,3...                                                               \n",
      "2473  151099/KSR/UTM/0522,44693,UTM,UMUM,UMUM,26000,...                                                               \n",
      "2474  151100/KSR/UTM/0522,44693,UTM,UMUM,UMUM,3500,2...                                                               \n",
      "2475  151101/KSR/UTM/0522,44693,UTM,UMUM,UMUM,58000,...                                                               \n",
      "2476  151102/KSR/UTM/0522,44693,UTM,UMUM,UMUM,6500,5...                                                               \n",
      "\n",
      "[2477 rows x 1 columns]\n"
     ]
    }
   ],
   "source": [
    "#memanggil dataset\n",
    "filecsv='PergerakanLaba.csv'\n",
    "teks=pd.read_csv(filecsv, header=0, delimiter=';', encoding='utf-8')\n",
    "df=pd.DataFrame(teks)\n",
    "print(df)"
   ]
  },
  {
   "cell_type": "code",
   "execution_count": null,
   "metadata": {},
   "outputs": [],
   "source": []
  }
 ],
 "metadata": {
  "kernelspec": {
   "display_name": "Python 3 (ipykernel)",
   "language": "python",
   "name": "python3"
  },
  "language_info": {
   "codemirror_mode": {
    "name": "ipython",
    "version": 3
   },
   "file_extension": ".py",
   "mimetype": "text/x-python",
   "name": "python",
   "nbconvert_exporter": "python",
   "pygments_lexer": "ipython3",
   "version": "3.9.12"
  }
 },
 "nbformat": 4,
 "nbformat_minor": 2
}
