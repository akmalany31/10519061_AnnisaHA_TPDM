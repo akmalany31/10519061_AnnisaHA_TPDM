{
 "cells": [
  {
   "cell_type": "code",
   "execution_count": 1,
   "id": "ce6d09ac",
   "metadata": {},
   "outputs": [],
   "source": [
    "#library Classification\n",
    "import pandas as pd\n",
    "import string\n",
    "import numpy as np\n",
    "import nltk"
   ]
  },
  {
   "cell_type": "code",
   "execution_count": 2,
   "id": "d668a475",
   "metadata": {},
   "outputs": [],
   "source": [
    "#Mesin Learning Naive Bayes\n",
    "from sklearn.naive_bayes import MultinomialNB\n",
    "from sklearn import model_selection\n",
    "from sklearn.feature_extraction.text import CountVectorizer\n",
    "from sklearn.feature_extraction.text import TfidfTransformer\n",
    "from sklearn.model_selection import train_test_split\n",
    "from sklearn.utils.multiclass import unique_labels\n",
    "from sklearn.preprocessing import LabelBinarizer, OrdinalEncoder, OneHotEncoder\n",
    "#KNN\n",
    "from sklearn.neighbors import KNeighborsClassifier\n",
    "#SVM\n",
    "from sklearn.svm import SVC\n",
    "#DTree\n",
    "from sklearn.ensemble import ExtraTreesClassifier\n",
    "from sklearn.tree import DecisionTreeClassifier, plot_tree\n",
    "#RF\n",
    "from sklearn.model_selection import cross_val_score\n",
    "from sklearn.datasets import make_blobs\n",
    "from sklearn.ensemble import RandomForestClassifier"
   ]
  },
  {
   "cell_type": "code",
   "execution_count": 3,
   "id": "8fdde56a",
   "metadata": {},
   "outputs": [],
   "source": [
    "#visualisasi hasil\n",
    "from sklearn.metrics import classification_report, accuracy_score, confusion_matrix\n",
    "import seaborn as sns\n",
    "import matplotlib.pyplot as plt"
   ]
  },
  {
   "cell_type": "code",
   "execution_count": 4,
   "id": "e98de0f7",
   "metadata": {},
   "outputs": [
    {
     "name": "stdout",
     "output_type": "stream",
     "text": [
      "             No Transaksi Sub Total Total Pokok Laba Kotor Laba Jual  \\\n",
      "0     148597/KSR/UTM/0522   Rp5.000     Rp4.083      Rp917     Rp917   \n",
      "1     148598/KSR/UTM/0522  Rp63.000    Rp57.260    Rp5.740   Rp5.740   \n",
      "2     148599/KSR/UTM/0522  Rp24.000    Rp19.203    Rp4.797   Rp4.797   \n",
      "3     148600/KSR/UTM/0522   Rp4.000     Rp3.225      Rp775     Rp775   \n",
      "4     148601/KSR/UTM/0522  Rp69.000    Rp65.410    Rp3.590   Rp3.590   \n",
      "...                   ...       ...         ...        ...       ...   \n",
      "2472  151098/KSR/UTM/0522   Rp3.500     Rp3.022      Rp478     Rp478   \n",
      "2473  151099/KSR/UTM/0522  Rp26.000    Rp22.900    Rp3.100   Rp3.100   \n",
      "2474  151100/KSR/UTM/0522   Rp3.500     Rp2.162    Rp1.338   Rp1.338   \n",
      "2475  151101/KSR/UTM/0522  Rp58.000    Rp56.600    Rp1.400   Rp1.400   \n",
      "2476  151102/KSR/UTM/0522   Rp6.500     Rp5.083    Rp1.417   Rp1.417   \n",
      "\n",
      "      Perubahan Laba  \n",
      "0                  0  \n",
      "1                  1  \n",
      "2                  0  \n",
      "3                  0  \n",
      "4                  1  \n",
      "...              ...  \n",
      "2472               0  \n",
      "2473               1  \n",
      "2474               0  \n",
      "2475               1  \n",
      "2476               1  \n",
      "\n",
      "[2477 rows x 6 columns]\n"
     ]
    }
   ],
   "source": [
    "#memanggil dataset\n",
    "filecsv='Laba.csv'\n",
    "teks=pd.read_csv(filecsv, header=0, delimiter=';', encoding='utf-8')\n",
    "df=pd.DataFrame(teks)\n",
    "print(df)"
   ]
  },
  {
   "cell_type": "code",
   "execution_count": 5,
   "id": "c0988725",
   "metadata": {},
   "outputs": [
    {
     "name": "stdout",
     "output_type": "stream",
     "text": [
      "     Sub Total Total Pokok Laba Kotor Laba Jual\n",
      "0      Rp5.000     Rp4.083      Rp917     Rp917\n",
      "1     Rp63.000    Rp57.260    Rp5.740   Rp5.740\n",
      "2     Rp24.000    Rp19.203    Rp4.797   Rp4.797\n",
      "3      Rp4.000     Rp3.225      Rp775     Rp775\n",
      "4     Rp69.000    Rp65.410    Rp3.590   Rp3.590\n",
      "...        ...         ...        ...       ...\n",
      "2472   Rp3.500     Rp3.022      Rp478     Rp478\n",
      "2473  Rp26.000    Rp22.900    Rp3.100   Rp3.100\n",
      "2474   Rp3.500     Rp2.162    Rp1.338   Rp1.338\n",
      "2475  Rp58.000    Rp56.600    Rp1.400   Rp1.400\n",
      "2476   Rp6.500     Rp5.083    Rp1.417   Rp1.417\n",
      "\n",
      "[2477 rows x 4 columns]\n"
     ]
    }
   ],
   "source": [
    "#input parameter untuk prediksi class\n",
    "xTarget=df.drop(['No Transaksi', 'Perubahan Laba'], axis=1)\n",
    "print(xTarget)"
   ]
  },
  {
   "cell_type": "code",
   "execution_count": 6,
   "id": "f4fcc680",
   "metadata": {},
   "outputs": [
    {
     "name": "stdout",
     "output_type": "stream",
     "text": [
      "0       0\n",
      "1       1\n",
      "2       0\n",
      "3       0\n",
      "4       1\n",
      "       ..\n",
      "2472    0\n",
      "2473    1\n",
      "2474    0\n",
      "2475    1\n",
      "2476    1\n",
      "Name: Perubahan Laba, Length: 2477, dtype: int64\n"
     ]
    }
   ],
   "source": [
    "#target classification dari acc/rejected loan\n",
    "yTarget=df['Perubahan Laba']\n",
    "print(yTarget)"
   ]
  },
  {
   "cell_type": "code",
   "execution_count": 7,
   "id": "44e14d2e",
   "metadata": {},
   "outputs": [
    {
     "data": {
      "image/png": "[encoded data removed]",
      "text/plain": [
       "<Figure size 720x432 with 1 Axes>"
      ]
     },
     "metadata": {
      "needs_background": "light"
     },
     "output_type": "display_data"
    }
   ],
   "source": [
    "ax=df['Perubahan Laba'].value_counts().plot(kind='bar', figsize=(10,6), fontsize=13, color='#087E8B')\n",
    "ax.set_title('Credit card fraud (0=turun, 1=naik)', size=20, pad=30)\n",
    "ax.set_ylabel('Number of transactions', fontsize=14)\n",
    "\n",
    "for i in ax.patches:\n",
    "    ax.text(i.get_x() + 0.19, i.get_height()+10, str(round(i.get_height(), 2)), fontsize=15)"
   ]
  },
  {
   "cell_type": "code",
   "execution_count": 8,
   "id": "7450529b",
   "metadata": {},
   "outputs": [
    {
     "name": "stdout",
     "output_type": "stream",
     "text": [
      "[[0]\n",
      " [1]\n",
      " [0]\n",
      " ...\n",
      " [0]\n",
      " [1]\n",
      " [1]]\n"
     ]
    }
   ],
   "source": [
    "#merubah (encode) nilai yTarget menjadi dua class yaitu 0 dan 1\n",
    "encoder = LabelBinarizer()\n",
    "Y = encoder.fit_transform(yTarget)\n",
    "print(Y)"
   ]
  },
  {
   "cell_type": "code",
   "execution_count": 9,
   "id": "439d5a30",
   "metadata": {},
   "outputs": [
    {
     "name": "stdout",
     "output_type": "stream",
     "text": [
      "  (0, 430)\t1.0\n",
      "  (0, 1728)\t1.0\n",
      "  (0, 3885)\t1.0\n",
      "  (0, 5367)\t1.0\n",
      "  (1, 502)\t1.0\n",
      "  (1, 2053)\t1.0\n",
      "  (1, 3568)\t1.0\n",
      "  (1, 5050)\t1.0\n",
      "  (2, 238)\t1.0\n",
      "  (2, 1077)\t1.0\n",
      "  (2, 3454)\t1.0\n",
      "  (2, 4936)\t1.0\n",
      "  (3, 366)\t1.0\n",
      "  (3, 1470)\t1.0\n",
      "  (3, 3773)\t1.0\n",
      "  (3, 5255)\t1.0\n",
      "  (4, 519)\t1.0\n",
      "  (4, 2137)\t1.0\n",
      "  (4, 3256)\t1.0\n",
      "  (4, 4738)\t1.0\n",
      "  (5, 435)\t1.0\n",
      "  (5, 1752)\t1.0\n",
      "  (5, 3886)\t1.0\n",
      "  (5, 5368)\t1.0\n",
      "  (6, 123)\t1.0\n",
      "  :\t:\n",
      "  (2470, 4809)\t1.0\n",
      "  (2471, 75)\t1.0\n",
      "  (2471, 767)\t1.0\n",
      "  (2471, 2574)\t1.0\n",
      "  (2471, 4056)\t1.0\n",
      "  (2472, 297)\t1.0\n",
      "  (2472, 1456)\t1.0\n",
      "  (2472, 3491)\t1.0\n",
      "  (2472, 4973)\t1.0\n",
      "  (2473, 259)\t1.0\n",
      "  (2473, 1244)\t1.0\n",
      "  (2473, 3171)\t1.0\n",
      "  (2473, 4653)\t1.0\n",
      "  (2474, 297)\t1.0\n",
      "  (2474, 1115)\t1.0\n",
      "  (2474, 2524)\t1.0\n",
      "  (2474, 4006)\t1.0\n",
      "  (2475, 479)\t1.0\n",
      "  (2475, 2043)\t1.0\n",
      "  (2475, 2548)\t1.0\n",
      "  (2475, 4030)\t1.0\n",
      "  (2476, 492)\t1.0\n",
      "  (2476, 1929)\t1.0\n",
      "  (2476, 2555)\t1.0\n",
      "  (2476, 4037)\t1.0\n",
      "(2477, 5394)\n"
     ]
    }
   ],
   "source": [
    "#merubah (encode) nilai atribut menjadi index nilai\n",
    "tfidf_transformer=OneHotEncoder()\n",
    "X=tfidf_transformer.fit_transform(xTarget)\n",
    "print(X)\n",
    "print(X.shape)"
   ]
  },
  {
   "cell_type": "code",
   "execution_count": 31,
   "id": "07349ecf",
   "metadata": {},
   "outputs": [
    {
     "name": "stdout",
     "output_type": "stream",
     "text": [
      "(1733, 5394)\n",
      "(1733, 1)\n",
      "(744, 5394)\n",
      "(744, 1)\n"
     ]
    }
   ],
   "source": [
    "#membuat data training dan testing dari dataset dengan data test = 30%\n",
    "#dari jumlah instance\n",
    "X_train, X_test, y_train, y_test = train_test_split(X, Y, test_size = 0.3, random_state=7)\n",
    "print(X_train.shape)\n",
    "print(y_train.shape)\n",
    "print(X_test.shape)\n",
    "print(y_test.shape)"
   ]
  },
  {
   "cell_type": "code",
   "execution_count": 32,
   "id": "7033dcfe",
   "metadata": {},
   "outputs": [
    {
     "name": "stdout",
     "output_type": "stream",
     "text": [
      "MultinomialNB()\n",
      "RandomForestClassifier(max_depth=5, n_estimators=70)\n",
      "SVC(decision_function_shape='ovo', kernel='linear')\n"
     ]
    }
   ],
   "source": [
    "#melakukan pembuatan model training\n",
    "NaiveBayes = MultinomialNB().fit(X_train,np.ravel(y_train,order='C'))\n",
    "RandomForest = RandomForestClassifier(n_estimators=60, max_depth=5).fit(X_train,np.ravel(y_train,order='C'))\n",
    "SuppVM = SVC(gamma='scale', decision_function_shape='ovo', kernel='linear').fit(X_train,np.ravel(y_train,order='C'))\n",
    "\n",
    "print(NaiveBayes)\n",
    "print(RandomForest)\n",
    "print(SuppVM)"
   ]
  },
  {
   "cell_type": "code",
   "execution_count": 33,
   "id": "08b2dc07",
   "metadata": {},
   "outputs": [
    {
     "name": "stdout",
     "output_type": "stream",
     "text": [
      "(744, 1)\n",
      "  Classifieer                                         prediction  accuracy\n",
      "0          NB                                    MultinomialNB()  0.694892\n",
      "1          RF  (DecisionTreeClassifier(max_depth=5, max_featu...  0.672043\n",
      "2         SVM  SVC(decision_function_shape='ovo', kernel='lin...  0.712366\n"
     ]
    }
   ],
   "source": [
    "#prediksi terhadap nilai training yang telah dibuat\n",
    "models = [\n",
    "    NaiveBayes,\n",
    "    RandomForest,\n",
    "    SuppVM,\n",
    "]\n",
    "dlist = [\n",
    "    'NB',\n",
    "    'RF',\n",
    "    'SVM',\n",
    "]\n",
    "\n",
    "i=0\n",
    "print(y_test.shape)\n",
    "entries = []\n",
    "for model in models:\n",
    "    prediction = model.predict(X_test)\n",
    "    accuracies = accuracy_score(y_test, prediction)\n",
    "    nameS = dlist[i]\n",
    "    entries.append((nameS, model, accuracies))\n",
    "    i=i+1\n",
    "    \n",
    "cv_df = pd.DataFrame(entries, columns=['Classifieer', 'prediction', 'accuracy'])\n",
    "cv_df.to_csv('AkurasiLaba.csv')\n",
    "print(cv_df)"
   ]
  },
  {
   "cell_type": "code",
   "execution_count": 18,
   "id": "25b6118b",
   "metadata": {},
   "outputs": [
    {
     "name": "stdout",
     "output_type": "stream",
     "text": [
      "[[246 115]\n",
      " [ 99 284]]\n",
      "accuracy\n",
      "0.669355    0.669355\n",
      "0.694892    0.694892\n",
      "0.712366    0.712366\n",
      "Name: accuracy, dtype: float64\n"
     ]
    }
   ],
   "source": [
    "cv_df = pd.DataFrame(entries, columns=['Classifieer', 'prediction', 'accuracy'])\n",
    "#cv_df.to_csv('AkurasiLaba.csv')\n",
    "#print(cv_df)\n",
    "\n",
    "#Menampilkan confusion matrix\n",
    "print(confusion_matrix(y_test, prediction))\n",
    "\n",
    "print(cv_df.groupby('accuracy').accuracy.mean())"
   ]
  },
  {
   "cell_type": "code",
   "execution_count": 19,
   "id": "78e771a3",
   "metadata": {},
   "outputs": [],
   "source": [
    "def plot_confusion_matrix(y_true, y_pred, classes,\n",
    "                          normalize=False,\n",
    "                          title=None,\n",
    "                          cmap=plt.cm.Blues):\n",
    "    \"\"\"\n",
    "    This function prints and plots the confusion matrix.\n",
    "    Normalization can be applied by setting `normalize=True`.\n",
    "    \"\"\"\n",
    "    if not title:\n",
    "        if normalize:\n",
    "            title = 'Normalized confusion matrix'\n",
    "        else:\n",
    "            title = 'Confusion matrix, without normalization'\n",
    "\n",
    "    # Compute confusion matrix\n",
    "    cm = confusion_matrix(y_true, y_pred)\n",
    "    # Only use the labels that appear in the data\n",
    "    classes = classes[unique_labels(y_true, y_pred)]\n",
    "    if normalize:\n",
    "        cm = cm.astype('float') / cm.sum(axis=1)[:, np.newaxis]\n",
    "        print(\"Normalized confusion matrix\")\n",
    "    else:\n",
    "        print('Confusion matrix, without normalization')\n",
    "\n",
    "    print(cm)\n",
    "\n",
    "    fig, ax = plt.subplots()\n",
    "    im = ax.imshow(cm, interpolation='nearest', cmap=cmap)\n",
    "    ax.figure.colorbar(im, ax=ax)\n",
    "    # We want to show all ticks...\n",
    "    ax.set(xticks=np.arange(cm.shape[1]),\n",
    "           yticks=np.arange(cm.shape[0]),\n",
    "           # ... and label them with the respective list entries\n",
    "           xticklabels=classes, yticklabels=classes,\n",
    "           title=title,\n",
    "           ylabel='True label',\n",
    "           xlabel='Predicted label')\n",
    "\n",
    "    # Rotate the tick labels and set their alignment.\n",
    "    plt.setp(ax.get_xticklabels(), rotation=45, ha=\"right\",\n",
    "             rotation_mode=\"anchor\")\n",
    "\n",
    "    # Loop over data dimensions and create text annotations.\n",
    "    fmt = '.2f' if normalize else 'd'\n",
    "    thresh = cm.max() / 2.\n",
    "    for i in range(cm.shape[0]):\n",
    "        for j in range(cm.shape[1]):\n",
    "            ax.text(j, i, format(cm[i, j], fmt),\n",
    "                    ha=\"center\", va=\"center\",\n",
    "                    color=\"white\" if cm[i, j] > thresh else \"black\")\n",
    "    fig.tight_layout()\n",
    "    return ax"
   ]
  },
  {
   "cell_type": "code",
   "execution_count": 20,
   "id": "5ceca728",
   "metadata": {},
   "outputs": [
    {
     "name": "stdout",
     "output_type": "stream",
     "text": [
      "Confusion matrix, without normalization\n",
      "[[246 115]\n",
      " [ 99 284]]\n",
      "Normalized confusion matrix\n",
      "[[0.68 0.32]\n",
      " [0.26 0.74]]\n"
     ]
    },
    {
     "data": {
      "image/png": "[encoded data removed]",
      "text/plain": [
       "<Figure size 432x288 with 2 Axes>"
      ]
     },
     "metadata": {
      "needs_background": "light"
     },
     "output_type": "display_data"
    },
    {
     "data": {
      "image/png": "[encoded data removed]",
      "text/plain": [
       "<Figure size 432x288 with 2 Axes>"
      ]
     },
     "metadata": {
      "needs_background": "light"
     },
     "output_type": "display_data"
    }
   ],
   "source": [
    "class_names = yTarget\n",
    "np.set_printoptions(precision=2)\n",
    "\n",
    "# Plot non-normalized confusion matrix\n",
    "plot_confusion_matrix(y_test, prediction, classes=class_names,\n",
    "                      title='Confusion matrix, without normalization')\n",
    "\n",
    "# Plot normalized confusion matrix\n",
    "plot_confusion_matrix(y_test, prediction, classes=class_names, normalize=True,\n",
    "                      title='Normalized confusion matrix')\n",
    "\n",
    "plt.show()"
   ]
  },
  {
   "cell_type": "code",
   "execution_count": null,
   "id": "51d890ba",
   "metadata": {},
   "outputs": [],
   "source": []
  }
 ],
 "metadata": {
  "kernelspec": {
   "display_name": "Python 3 (ipykernel)",
   "language": "python",
   "name": "python3"
  },
  "language_info": {
   "codemirror_mode": {
    "name": "ipython",
    "version": 3
   },
   "file_extension": ".py",
   "mimetype": "text/x-python",
   "name": "python",
   "nbconvert_exporter": "python",
   "pygments_lexer": "ipython3",
   "version": "3.9.12"
  }
 },
 "nbformat": 4,
 "nbformat_minor": 5
}
